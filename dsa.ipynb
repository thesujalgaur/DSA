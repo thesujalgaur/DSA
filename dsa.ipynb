{
 "cells": [
  {
   "cell_type": "code",
   "execution_count": 12,
   "metadata": {},
   "outputs": [
    {
     "name": "stdout",
     "output_type": "stream",
     "text": [
      "not prime\n"
     ]
    }
   ],
   "source": [
    "n=int(input(\"enter the number n \"))\n",
    "i=2\n",
    "\n",
    "while (i<n):\n",
    "    if n%i == 0 :\n",
    "        print('not prime')\n",
    "        break\n",
    "    i=i+1\n",
    "else:\n",
    "    print('prime')"
   ]
  },
  {
   "cell_type": "code",
   "execution_count": 18,
   "metadata": {},
   "outputs": [
    {
     "name": "stdout",
     "output_type": "stream",
     "text": [
      "*****\n",
      "*****\n",
      "*****\n",
      "*****\n",
      "*****\n"
     ]
    }
   ],
   "source": [
    "n=int(input('Enter a number '))\n",
    "i=1\n",
    "while (i<=n):\n",
    " j=1\n",
    " while(j<=n):\n",
    "     print('*',end='')\n",
    "     j=j+1\n",
    " print()\n",
    " i=i+1\n"
   ]
  },
  {
   "cell_type": "code",
   "execution_count": 23,
   "metadata": {},
   "outputs": [
    {
     "name": "stdout",
     "output_type": "stream",
     "text": [
      "111\n",
      "222\n",
      "333\n"
     ]
    }
   ],
   "source": [
    "n=int(input('enter the n:'))\n",
    "i=1\n",
    "while(i<=n):\n",
    " j=1\n",
    " while(j<=n):\n",
    "  print(i,end='')\n",
    "  j=j+1\n",
    " print()\n",
    " i=i+1"
   ]
  },
  {
   "cell_type": "code",
   "execution_count": 24,
   "metadata": {},
   "outputs": [
    {
     "name": "stdout",
     "output_type": "stream",
     "text": [
      "****\n",
      "****\n",
      "****\n",
      "****\n"
     ]
    }
   ],
   "source": [
    "n=4\n",
    "i=1\n",
    "while(i<=n):\n",
    " j=1\n",
    " while(j<=n):\n",
    "     print('*',end='')\n",
    "     j=j+1\n",
    " print()\n",
    " i=i+1"
   ]
  },
  {
   "cell_type": "code",
   "execution_count": 27,
   "metadata": {},
   "outputs": [
    {
     "name": "stdout",
     "output_type": "stream",
     "text": [
      "****\n",
      "***\n",
      "**\n",
      "*\n"
     ]
    }
   ],
   "source": [
    "n=4\n",
    "i=1\n",
    "while(i<=n):\n",
    " j=1\n",
    " while(j<=n-i+1):\n",
    "     print('*',end=\"\")\n",
    "     j=j+1\n",
    " print()\n",
    " i=i+1"
   ]
  },
  {
   "cell_type": "code",
   "execution_count": 31,
   "metadata": {},
   "outputs": [
    {
     "name": "stdout",
     "output_type": "stream",
     "text": [
      "12345\n",
      "12345\n",
      "12345\n",
      "12345\n",
      "12345\n"
     ]
    }
   ],
   "source": [
    "n=int(input('n'))\n",
    "i=1\n",
    "while (i<=n):\n",
    " j=1\n",
    " while(j<=i):\n",
    "  print(j,end='')\n",
    "  j+=1\n",
    " print()\n",
    " i+=1"
   ]
  },
  {
   "cell_type": "code",
   "execution_count": 6,
   "metadata": {},
   "outputs": [
    {
     "name": "stdout",
     "output_type": "stream",
     "text": [
      "1234"
     ]
    }
   ],
   "source": [
    "n=int(input(''))\n",
    "i=1\n",
    "while(i<=n):\n",
    "  print(i,end='')\n",
    "  i+=1"
   ]
  },
  {
   "cell_type": "code",
   "execution_count": 9,
   "metadata": {},
   "outputs": [
    {
     "name": "stdout",
     "output_type": "stream",
     "text": [
      "25242322212019181716151413121110987654321"
     ]
    }
   ],
   "source": [
    "n=int(input('n'))\n",
    "i=1\n",
    "while(i<=n):\n",
    "    print(n,end='')\n",
    "    n-=1"
   ]
  },
  {
   "cell_type": "code",
   "execution_count": 12,
   "metadata": {},
   "outputs": [
    {
     "name": "stdout",
     "output_type": "stream",
     "text": [
      "2  4  6  8  10  12  14  16  18  20  "
     ]
    }
   ],
   "source": [
    "n=int(input('n'))\n",
    "i=1\n",
    "while(i<=n):\n",
    " if i%2==0:\n",
    "     print(i , end='  ')\n",
    " i=i+1"
   ]
  },
  {
   "cell_type": "code",
   "execution_count": 13,
   "metadata": {},
   "outputs": [
    {
     "name": "stdout",
     "output_type": "stream",
     "text": [
      "1  3  5  7  9  11  13  15  17  19  21  23  25  27  29  31  33  35  37  39  41  43  45  47  49  "
     ]
    }
   ],
   "source": [
    "n=int(input('n'))\n",
    "i=1\n",
    "while(i<=n):\n",
    " if i%2!=0:\n",
    "     print(i , end='  ')\n",
    " i=i+1"
   ]
  },
  {
   "cell_type": "code",
   "execution_count": 17,
   "metadata": {},
   "outputs": [
    {
     "name": "stdout",
     "output_type": "stream",
     "text": [
      "210\n"
     ]
    }
   ],
   "source": [
    "#sum of all natural numbers \n",
    "n=int(input('enter the value of N '))\n",
    "i=1\n",
    "sum=0\n",
    "while(i<=n):\n",
    "    sum=sum+i\n",
    "    i=i+1\n",
    "print(sum)"
   ]
  },
  {
   "cell_type": "code",
   "execution_count": 20,
   "metadata": {},
   "outputs": [
    {
     "name": "stdout",
     "output_type": "stream",
     "text": [
      "90\n"
     ]
    }
   ],
   "source": [
    "#find sum of even number till  n \n",
    "n=int(input('Enter the value of  n'))\n",
    "i=1\n",
    "sum=0\n",
    "while(i<n):\n",
    " if i % 2== 0:\n",
    "    sum=sum+i\n",
    " i=i+1\n",
    "    \n",
    "print(sum)"
   ]
  },
  {
   "cell_type": "code",
   "execution_count": 8,
   "metadata": {},
   "outputs": [
    {
     "name": "stdout",
     "output_type": "stream",
     "text": [
      "1234\n",
      "1234\n",
      "1234\n",
      "1234\n"
     ]
    }
   ],
   "source": [
    "n=int(input('enter n'))\n",
    "i=1\n",
    "while(i<=n):\n",
    "    j=1\n",
    "    while(j<=n):\n",
    "        print(j,end='')\n",
    "        j=j+1\n",
    "    print()\n",
    "    i=i+1"
   ]
  },
  {
   "cell_type": "code",
   "execution_count": 13,
   "metadata": {},
   "outputs": [
    {
     "name": "stdout",
     "output_type": "stream",
     "text": [
      "321\n",
      "321\n",
      "321\n"
     ]
    }
   ],
   "source": [
    "n=int(input('n'))\n",
    "i=1\n",
    "while(i<=n):\n",
    "    j=n\n",
    "    while(j>=1):\n",
    "     print(j,end='')\n",
    "     j=j-1\n",
    "    print()\n",
    "    i=i+1"
   ]
  },
  {
   "cell_type": "code",
   "execution_count": 15,
   "metadata": {},
   "outputs": [
    {
     "name": "stdout",
     "output_type": "stream",
     "text": [
      "123456789\n",
      "123456789\n",
      "123456789\n",
      "123456789\n",
      "123456789\n",
      "123456789\n",
      "123456789\n",
      "123456789\n",
      "123456789\n"
     ]
    }
   ],
   "source": [
    "n=10\n",
    "i=1\n",
    "while(i<n):\n",
    "    j=1\n",
    "    while(j<n):\n",
    "        print(j,end='')\n",
    "        j=j+1\n",
    "    print()\n",
    "    i=i+1"
   ]
  },
  {
   "cell_type": "code",
   "execution_count": 33,
   "metadata": {},
   "outputs": [
    {
     "name": "stdout",
     "output_type": "stream",
     "text": [
      "1  2  3  \n",
      "4  5  6  \n",
      "7  8  9  \n"
     ]
    }
   ],
   "source": [
    "n=4\n",
    "i=1\n",
    "count=1\n",
    "while(i<n):\n",
    "    j=1\n",
    "    while(j<n):\n",
    "     print(count,end='  ')\n",
    "     count=count+1\n",
    "     j=j+1\n",
    "    print()\n",
    "    i=i+1"
   ]
  },
  {
   "cell_type": "code",
   "execution_count": 36,
   "metadata": {},
   "outputs": [
    {
     "name": "stdout",
     "output_type": "stream",
     "text": [
      "#\n",
      "##\n",
      "###\n",
      "####\n"
     ]
    }
   ],
   "source": [
    "n=4\n",
    "i=1\n",
    "while(i<=n):\n",
    "    j=1\n",
    "    while(j<=i):\n",
    "        print('#',end='')\n",
    "        j=j+1\n",
    "    print()\n",
    "    i=i+1\n",
    "        "
   ]
  },
  {
   "cell_type": "code",
   "execution_count": null,
   "metadata": {},
   "outputs": [],
   "source": [
    "n=4\n",
    "i=1\n",
    "while(i<=n):\n",
    "    j=1\n",
    "    while(j<=i):\n",
    "        print(i,end='')\n",
    "        j=j+1\n",
    "    print()\n",
    "    i=i+1\n",
    "        "
   ]
  },
  {
   "cell_type": "code",
   "execution_count": 37,
   "metadata": {},
   "outputs": [
    {
     "name": "stdout",
     "output_type": "stream",
     "text": [
      "1\n",
      "23\n",
      "456\n",
      "78910\n"
     ]
    }
   ],
   "source": [
    "n=4\n",
    "i=1\n",
    "count=1\n",
    "while(i<=n):\n",
    "    j=1\n",
    "    while(j<=i):\n",
    "        print(count,end='')\n",
    "        count=count+1\n",
    "        j=j+1\n",
    "    print()\n",
    "    i=i+1\n",
    "        "
   ]
  },
  {
   "cell_type": "code",
   "execution_count": 39,
   "metadata": {},
   "outputs": [
    {
     "name": "stdout",
     "output_type": "stream",
     "text": [
      "1\n",
      "22\n",
      "333\n",
      "4444\n"
     ]
    }
   ],
   "source": [
    "n=4\n",
    "i=1\n",
    "while(i<=n):\n",
    "    j=1\n",
    "    while(j<=i):\n",
    "        print(i,end='')\n",
    "        j=j+1\n",
    "    print()\n",
    "    i=i+1\n",
    "        "
   ]
  },
  {
   "cell_type": "code",
   "execution_count": 46,
   "metadata": {},
   "outputs": [
    {
     "name": "stdout",
     "output_type": "stream",
     "text": [
      "*****\n",
      "****\n",
      "***\n",
      "**\n",
      "*\n"
     ]
    }
   ],
   "source": [
    "n=5\n",
    "i=1\n",
    "while(i<=n):\n",
    "    j=1\n",
    "    while(j<=n-i+1):\n",
    "        print('*',end='')\n",
    "        j=j+1\n",
    "    print()\n",
    "    i=i+1\n",
    "        "
   ]
  },
  {
   "cell_type": "code",
   "execution_count": null,
   "metadata": {},
   "outputs": [],
   "source": [
    "n=5\n",
    "i=1\n",
    "while(j<=n):\n",
    "    j=1\n",
    "    while()"
   ]
  },
  {
   "cell_type": "code",
   "execution_count": 4,
   "metadata": {},
   "outputs": [
    {
     "name": "stdout",
     "output_type": "stream",
     "text": [
      "1\n",
      "23\n",
      "456\n",
      "78910\n"
     ]
    }
   ],
   "source": [
    "n=4\n",
    "i=1\n",
    "sum=0\n",
    "while(i<=n):\n",
    "    j=1\n",
    "    while(j<=i):\n",
    "        sum=sum+1\n",
    "        print(sum,end='')\n",
    "        j=j+1\n",
    "    print()\n",
    "    i=i+1"
   ]
  },
  {
   "cell_type": "code",
   "execution_count": 5,
   "metadata": {},
   "outputs": [
    {
     "name": "stdout",
     "output_type": "stream",
     "text": [
      "1\n",
      "23\n",
      "456\n",
      "78910\n"
     ]
    }
   ],
   "source": [
    "n=4\n",
    "i=1\n",
    "value=1\n",
    "while(i<=n):\n",
    "    j=1\n",
    "    while(j<=i):\n",
    "        print(value,end='')\n",
    "        value=value+1\n",
    "        j=j+1\n",
    "    print()\n",
    "    i=i+1"
   ]
  },
  {
   "cell_type": "code",
   "execution_count": 10,
   "metadata": {},
   "outputs": [
    {
     "name": "stdout",
     "output_type": "stream",
     "text": [
      "1\n",
      "21\n",
      "321\n",
      "4321\n"
     ]
    }
   ],
   "source": [
    "n = 4\n",
    "i = 1\n",
    "while i <= n:          # outer loop for rows\n",
    "    j = 0\n",
    "    while j < i:       # inner loop for printing numbers\n",
    "        print(i+j, end='')   # row starts from i, then i+1, i+2 ...\n",
    "        j += 1\n",
    "    print()            # new line after each row\n",
    "    i += 1"
   ]
  },
  {
   "cell_type": "code",
   "execution_count": 14,
   "metadata": {},
   "outputs": [
    {
     "name": "stdout",
     "output_type": "stream",
     "text": [
      "1\n",
      "21\n",
      "321\n",
      "4321\n"
     ]
    }
   ],
   "source": [
    "i=1\n",
    "n=int(input('n'))\n",
    "while(i<=n):\n",
    "    j=0\n",
    "    while(j<i):\n",
    "        print(i-j,end='')\n",
    "        j=j+1\n",
    "    print()\n",
    "    i=i+1"
   ]
  },
  {
   "cell_type": "code",
   "execution_count": 18,
   "metadata": {},
   "outputs": [
    {
     "name": "stdout",
     "output_type": "stream",
     "text": [
      "111\n",
      "222\n",
      "333\n"
     ]
    }
   ],
   "source": [
    "i=1\n",
    "n=3\n",
    "while(i<=n):\n",
    "    j=1\n",
    "    while(j<=n):\n",
    "        print(i,end='')\n",
    "        j=j+1\n",
    "    print()\n",
    "    i=i+1"
   ]
  },
  {
   "cell_type": "code",
   "execution_count": 22,
   "metadata": {},
   "outputs": [
    {
     "ename": "TypeError",
     "evalue": "can only concatenate str (not \"int\") to str",
     "output_type": "error",
     "traceback": [
      "\u001b[31m---------------------------------------------------------------------------\u001b[39m",
      "\u001b[31mTypeError\u001b[39m                                 Traceback (most recent call last)",
      "\u001b[36mCell\u001b[39m\u001b[36m \u001b[39m\u001b[32mIn[22]\u001b[39m\u001b[32m, line 6\u001b[39m\n\u001b[32m      4\u001b[39m j=\u001b[32m1\u001b[39m\n\u001b[32m      5\u001b[39m \u001b[38;5;28;01mwhile\u001b[39;00m(j<=n):\n\u001b[32m----> \u001b[39m\u001b[32m6\u001b[39m     char=\u001b[38;5;28mchr\u001b[39m(\u001b[33;43m'\u001b[39;49m\u001b[33;43mA\u001b[39;49m\u001b[33;43m'\u001b[39;49m\u001b[43m+\u001b[49m\u001b[43mi\u001b[49m-\u001b[32m1\u001b[39m)\n\u001b[32m      7\u001b[39m     \u001b[38;5;28mprint\u001b[39m(char,end=\u001b[33m'\u001b[39m\u001b[33m'\u001b[39m)\n\u001b[32m      8\u001b[39m     j=j+\u001b[32m1\u001b[39m\n",
      "\u001b[31mTypeError\u001b[39m: can only concatenate str (not \"int\") to str"
     ]
    }
   ],
   "source": [
    "i=1\n",
    "n=3\n",
    "while(i<=n):\n",
    "    j=1\n",
    "    while(j<=n):\n",
    "        char=chr('A'+i-1)\n",
    "        print(char,end='')\n",
    "        j=j+1\n",
    "    print()\n",
    "    i=i+1"
   ]
  },
  {
   "cell_type": "code",
   "execution_count": 24,
   "metadata": {},
   "outputs": [
    {
     "name": "stdout",
     "output_type": "stream",
     "text": [
      "*\n",
      "*\n",
      "*\n",
      "*\n",
      "**\n",
      "**\n",
      "**\n",
      "***\n",
      "***\n",
      "****\n"
     ]
    }
   ],
   "source": [
    "n=int(input(\"enter n\"))\n",
    "i=1\n",
    "while(i<=n):\n",
    "    #space print karlo\n",
    "    space = n-i\n",
    "    while(space):\n",
    "        print('',end='')\n",
    "        space=space-1\n",
    "        j=1\n",
    "        while(j<=i):\n",
    "            print('*',end='')\n",
    "            j=j+1\n",
    "        print()\n",
    "    i=i+1    "
   ]
  },
  {
   "cell_type": "code",
   "execution_count": 33,
   "metadata": {},
   "outputs": [
    {
     "name": "stdout",
     "output_type": "stream",
     "text": [
      "         *\n",
      "        **\n",
      "       ***\n",
      "      ****\n",
      "     *****\n",
      "    ******\n",
      "   *******\n",
      "  ********\n",
      " *********\n",
      "**********\n"
     ]
    }
   ],
   "source": [
    "i=1\n",
    "n=int(input('n'))\n",
    "while i<=n:\n",
    "    j=1\n",
    "    while(j<=n-i):\n",
    "        print(' ',end='')\n",
    "        j=j+1\n",
    "    k=1\n",
    "    while(k<=i):\n",
    "        print('*',end='')\n",
    "        k=k+1\n",
    "    print()\n",
    "    i=i+1"
   ]
  },
  {
   "cell_type": "code",
   "execution_count": 27,
   "metadata": {},
   "outputs": [
    {
     "name": "stdout",
     "output_type": "stream",
     "text": [
      "    *\n",
      "   **\n",
      "  ***\n",
      " ****\n",
      "*****\n"
     ]
    }
   ],
   "source": []
  },
  {
   "cell_type": "code",
   "execution_count": 36,
   "metadata": {},
   "outputs": [
    {
     "name": "stdout",
     "output_type": "stream",
     "text": [
      "****\n",
      "***\n",
      "**\n",
      "*\n"
     ]
    }
   ],
   "source": [
    "n=4\n",
    "i=1\n",
    "while i<=n:\n",
    "    j=1\n",
    "    while(j<=n-i+1):\n",
    "        print('*',end='')\n",
    "        j=j+1\n",
    "    print()\n",
    "    i=i+1"
   ]
  },
  {
   "cell_type": "code",
   "execution_count": 2,
   "metadata": {},
   "outputs": [
    {
     "name": "stdout",
     "output_type": "stream",
     "text": [
      "****\n",
      " ***\n",
      "  **\n",
      "   *\n"
     ]
    }
   ],
   "source": [
    "i=1\n",
    "n=int(input('n'))\n",
    "while i<=n:\n",
    "    j=1\n",
    "    while(j<=i-1):\n",
    "        print(' ',end='')\n",
    "        j=j+1\n",
    "    k=1\n",
    "    while(k<=n-i+1):\n",
    "        print('*',end='')\n",
    "        k=k+1\n",
    "    print()\n",
    "    i=i+1"
   ]
  },
  {
   "cell_type": "code",
   "execution_count": 6,
   "metadata": {},
   "outputs": [
    {
     "name": "stdout",
     "output_type": "stream",
     "text": [
      "   1\n",
      "  22\n",
      " 333\n",
      "4444\n"
     ]
    }
   ],
   "source": [
    "n=int(input(\"n\"))\n",
    "i=1\n",
    "while(i<=n):\n",
    "    j=1\n",
    "    while(j<=n-i):\n",
    "        print(' ',end='')\n",
    "        j=j+1\n",
    "    k=1\n",
    "    while(k<=i):\n",
    "        print(i,end='')\n",
    "        k+=1\n",
    "    print()\n",
    "    i=i+1\n",
    "        \n"
   ]
  },
  {
   "cell_type": "code",
   "execution_count": 14,
   "metadata": {},
   "outputs": [
    {
     "name": "stdout",
     "output_type": "stream",
     "text": [
      " 1234\n",
      "  234\n",
      "   34\n",
      "    4\n"
     ]
    }
   ],
   "source": [
    "n=int(input(\"n\"))\n",
    "i=1\n",
    "while(i<=n):\n",
    "    j=0\n",
    "    while(j<=i-1):\n",
    "        print(' ',end='')\n",
    "        j=j+1\n",
    "    k=0\n",
    "    while(k<n-i+1):\n",
    "        print(i+k,end='')\n",
    "        k+=1\n",
    "    print()\n",
    "    i=i+1\n",
    "        \n"
   ]
  },
  {
   "cell_type": "code",
   "execution_count": 22,
   "metadata": {},
   "outputs": [
    {
     "name": "stdout",
     "output_type": "stream",
     "text": [
      "   1\n",
      "  23\n",
      " 456\n",
      "78910\n"
     ]
    }
   ],
   "source": [
    "n=int(input(\"n\"))\n",
    "i=1\n",
    "sum=1\n",
    "while(i<=n):\n",
    "    j=1\n",
    "    while(j<=n-i):\n",
    "        print(' ',end='')\n",
    "        j=j+1\n",
    "    k=1\n",
    "    while(k<=i):\n",
    "        print(sum,end='')\n",
    "        sum=sum+1\n",
    "        k=k+1\n",
    "    print()\n",
    "    i=i+1\n",
    "        \n"
   ]
  },
  {
   "cell_type": "code",
   "execution_count": 38,
   "metadata": {},
   "outputs": [
    {
     "name": "stdout",
     "output_type": "stream",
     "text": [
      "   *\n",
      "  ***\n",
      " *****\n",
      "*******\n"
     ]
    }
   ],
   "source": [
    "n=int(input(\"n\"))\n",
    "i=1\n",
    "while(i<=n): \n",
    "    j=1\n",
    "    while(j<=n-i):# 1st triangle\n",
    "        print(' ',end='')\n",
    "        j=j+1\n",
    "    k=1\n",
    "    while(k<=i): # 2nd trinagle \n",
    "        print('*',end='')\n",
    "        k=k+1\n",
    "    l=i-1\n",
    "    \n",
    "    # 3rd Triangle\n",
    "    \n",
    "    while(l>=1):\n",
    "        print('*',end='')\n",
    "        l=l-1\n",
    "    print()\n",
    "    i=i+1\n"
   ]
  },
  {
   "cell_type": "code",
   "execution_count": 46,
   "metadata": {},
   "outputs": [
    {
     "name": "stdout",
     "output_type": "stream",
     "text": [
      "1234554321\n",
      "1234**4321\n",
      "123****321\n",
      "12******21\n",
      "1********1\n"
     ]
    }
   ],
   "source": [
    "i=1\n",
    "n=5\n",
    "while(i<=n):\n",
    "    j=1 \n",
    "    while(j<=n-i+1):\n",
    "     print(j,end='')\n",
    "     j=j+1\n",
    "    k=1\n",
    "    while(k<=i-1):\n",
    "        print('*',end='')\n",
    "        k=k+1\n",
    "    l=i-1\n",
    "    while(l>=1):\n",
    "        print('*',end='')\n",
    "        l=l-1\n",
    "    m=n-i+1\n",
    "    while(m>=1):\n",
    "        print(m,end='')\n",
    "        m=m-1\n",
    "    print()\n",
    "    i=i+1\n",
    "    "
   ]
  },
  {
   "cell_type": "code",
   "execution_count": 51,
   "metadata": {},
   "outputs": [
    {
     "name": "stdout",
     "output_type": "stream",
     "text": [
      "123\n",
      "456\n",
      "789\n"
     ]
    }
   ],
   "source": [
    "i=1\n",
    "n=3\n",
    "sum=1\n",
    "while(i<=n):\n",
    "    j=1\n",
    "    while(j<=n):\n",
    "        print(sum,end='')\n",
    "        sum=sum+1\n",
    "        j=j+1\n",
    "    print()\n",
    "    i=i+1"
   ]
  },
  {
   "cell_type": "code",
   "execution_count": 81,
   "metadata": {},
   "outputs": [
    {
     "name": "stdout",
     "output_type": "stream",
     "text": [
      "1\n",
      "21\n",
      "321\n",
      "4321\n"
     ]
    }
   ],
   "source": [
    "n=4\n",
    "i=1\n",
    "while(i<=n):\n",
    "    j=i\n",
    "    while(j>=1):\n",
    "        print(j,end='')\n",
    "        j=j-1\n",
    "    print()\n",
    "    i=i+1\n",
    "    "
   ]
  },
  {
   "cell_type": "code",
   "execution_count": 83,
   "metadata": {},
   "outputs": [
    {
     "name": "stdout",
     "output_type": "stream",
     "text": [
      "1\n",
      "23\n",
      "456\n",
      "78910\n"
     ]
    }
   ],
   "source": [
    "i=1\n",
    "n=4\n",
    "sum=1\n",
    "while(i<=n):\n",
    "    j=1\n",
    "    while(j<=i):\n",
    "        print(sum,end='')\n",
    "        sum=sum+1\n",
    "        j=j+1\n",
    "    print()\n",
    "    i=i+1"
   ]
  },
  {
   "cell_type": "code",
   "execution_count": 86,
   "metadata": {},
   "outputs": [
    {
     "name": "stdout",
     "output_type": "stream",
     "text": [
      "1111\n",
      " 222\n",
      "  33\n",
      "   4\n"
     ]
    }
   ],
   "source": [
    "i=1\n",
    "n=4\n",
    "while(i<=n):\n",
    "    j=1\n",
    "    while(j<=i-1):\n",
    "        print(' ',end='')\n",
    "        j=j+1\n",
    "    k=1\n",
    "    while(k<=n-i+1):\n",
    "        print(i,end='')\n",
    "        k=k+1\n",
    "    print()\n",
    "    i=i+1"
   ]
  },
  {
   "cell_type": "code",
   "execution_count": 87,
   "metadata": {},
   "outputs": [
    {
     "name": "stdout",
     "output_type": "stream",
     "text": [
      "      1\n",
      "     121\n",
      "    12321\n",
      "   1234321\n",
      "  123454321\n",
      " 12345654321\n",
      "1234567654321\n"
     ]
    }
   ],
   "source": [
    "i=1\n",
    "n=int(input('enter the value of n '))\n",
    "while(i<=n):\n",
    "    j=1\n",
    "    while(j<=n-i):\n",
    "        print(' ',end='')\n",
    "        j=j+1\n",
    "    k=1\n",
    "    while(k<=i):\n",
    "        print(k,end='')\n",
    "        k=k+1\n",
    "    l=i-1\n",
    "    while(l>=1):\n",
    "        print(l,end='')\n",
    "        l=l-1\n",
    "    print()\n",
    "    i+=1"
   ]
  },
  {
   "cell_type": "code",
   "execution_count": 90,
   "metadata": {},
   "outputs": [
    {
     "name": "stdout",
     "output_type": "stream",
     "text": [
      "   *\n",
      "  **\n",
      " ***\n",
      "****\n"
     ]
    }
   ],
   "source": [
    "i=1\n",
    "n=int(input('n'))\n",
    "while(i<=n):\n",
    "    j=1\n",
    "    while(j<=n-i):\n",
    "        print(' ',end='')\n",
    "        j=j+1\n",
    "    k=1\n",
    "    while(k<=i):\n",
    "        print('*',end='')\n",
    "        k=k+1   \n",
    "    print()\n",
    "    i=i+1 "
   ]
  },
  {
   "cell_type": "code",
   "execution_count": 91,
   "metadata": {},
   "outputs": [
    {
     "name": "stdout",
     "output_type": "stream",
     "text": [
      "   *\n",
      "  ***\n",
      " *****\n",
      "*******\n"
     ]
    }
   ],
   "source": [
    "i=1\n",
    "n=4\n",
    "while(i<=n):\n",
    "    j=1\n",
    "    while(j<=n-i):\n",
    "        print(' ',end='')\n",
    "        j=j+1\n",
    "    k=1\n",
    "    while(k<=2*i-1):\n",
    "        print('*',end='')\n",
    "        k=k+1\n",
    "    print()\n",
    "    i=i+1"
   ]
  },
  {
   "cell_type": "code",
   "execution_count": 95,
   "metadata": {},
   "outputs": [
    {
     "name": "stdout",
     "output_type": "stream",
     "text": [
      "           *\n",
      "          ***\n",
      "         *****\n",
      "        *******\n",
      "       *********\n",
      "      ***********\n",
      "     *************\n",
      "    ***************\n",
      "   *****************\n",
      "  *******************\n",
      " *********************\n",
      "***********************\n",
      " *********************\n",
      "  *******************\n",
      "   *****************\n",
      "    ***************\n",
      "     *************\n",
      "      ***********\n",
      "       *********\n",
      "        *******\n",
      "         *****\n",
      "          ***\n",
      "           *\n"
     ]
    }
   ],
   "source": [
    "i=1\n",
    "n=int(input(\"enter the value of n \"))\n",
    "# upper half\n",
    "while(i<=n):\n",
    "    j=1\n",
    "    # space \n",
    "    while(j<=n-i):\n",
    "        print(' ',end='')\n",
    "        j=j+1\n",
    "    k=1\n",
    "    while(k<=i*2-1):\n",
    "        print('*',end='')\n",
    "        k=k+1\n",
    "    print()\n",
    "    i=i+1\n",
    "#lower half \n",
    "i=n-1\n",
    "while(i>=1):\n",
    "    j=1\n",
    "    while(j<=n-i):\n",
    "        print(' ',end='')\n",
    "        j=j+1\n",
    "    k=1\n",
    "    while(k<=i*2-1):\n",
    "        print('*',end='')\n",
    "        k=k+1\n",
    "    print()\n",
    "    i-=1\n",
    "    \n",
    "        "
   ]
  },
  {
   "cell_type": "code",
   "execution_count": 97,
   "metadata": {},
   "outputs": [
    {
     "name": "stdout",
     "output_type": "stream",
     "text": [
      "    1\n",
      "   121\n",
      "  12321\n",
      " 1234321\n",
      "123454321\n"
     ]
    }
   ],
   "source": [
    "n=5\n",
    "i=1\n",
    "while(i<=n):\n",
    "    j=1\n",
    "    while(j<=n-i):\n",
    "     print(' ',end='')\n",
    "     j=j+1\n",
    "    k=1\n",
    "    while(k<=i):\n",
    "        print(k,end='')\n",
    "        k+=1\n",
    "    l=i-1\n",
    "    while(l>=1):\n",
    "        print(l,end='')\n",
    "        l-=1\n",
    "    print()\n",
    "    i=i+1\n",
    "    \n",
    "    "
   ]
  },
  {
   "cell_type": "code",
   "execution_count": null,
   "metadata": {},
   "outputs": [],
   "source": []
  }
 ],
 "metadata": {
  "kernelspec": {
   "display_name": "Python 3",
   "language": "python",
   "name": "python3"
  },
  "language_info": {
   "codemirror_mode": {
    "name": "ipython",
    "version": 3
   },
   "file_extension": ".py",
   "mimetype": "text/x-python",
   "name": "python",
   "nbconvert_exporter": "python",
   "pygments_lexer": "ipython3",
   "version": "3.11.9"
  }
 },
 "nbformat": 4,
 "nbformat_minor": 2
}
